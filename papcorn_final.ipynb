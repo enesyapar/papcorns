{
 "cells": [
  {
   "cell_type": "code",
   "execution_count": 1,
   "id": "c11ec9e2",
   "metadata": {},
   "outputs": [],
   "source": [
    "import pandas as pd\n",
    "import numpy as np\n",
    "import sqlite3\n",
    "import matplotlib.pyplot as plt\n",
    "import seaborn as sns\n",
    "from datetime import datetime"
   ]
  },
  {
   "cell_type": "code",
   "execution_count": 2,
   "id": "7abcebd3",
   "metadata": {},
   "outputs": [
    {
     "name": "stderr",
     "output_type": "stream",
     "text": [
      "/var/folders/h0/v4b0bs811x35xjk82g1h9bg00000gn/T/ipykernel_14746/4215720933.py:1: MatplotlibDeprecationWarning: The seaborn styles shipped by Matplotlib are deprecated since 3.6, as they no longer correspond to the styles shipped by seaborn. However, they will remain available as 'seaborn-v0_8-<style>'. Alternatively, directly use the seaborn API instead.\n",
      "  plt.style.use('seaborn')\n"
     ]
    }
   ],
   "source": [
    "plt.style.use('seaborn')\n",
    "sns.set_palette('deep')"
   ]
  },
  {
   "cell_type": "code",
   "execution_count": 3,
   "id": "2b55f41d",
   "metadata": {},
   "outputs": [],
   "source": [
    "conn = sqlite3.connect('papcorns.sqlite')\n",
    "users_df = pd.read_sql_query(\"SELECT * FROM users;\", conn)\n",
    "events_df = pd.read_sql_query(\"SELECT * FROM user_events;\", conn)"
   ]
  },
  {
   "cell_type": "markdown",
   "id": "9962a344",
   "metadata": {},
   "source": [
    "## 1. Revenue by Country"
   ]
  },
  {
   "cell_type": "code",
   "execution_count": 4,
   "id": "f25f261f",
   "metadata": {},
   "outputs": [
    {
     "data": {
      "text/html": [
       "<div>\n",
       "<style scoped>\n",
       "    .dataframe tbody tr th:only-of-type {\n",
       "        vertical-align: middle;\n",
       "    }\n",
       "\n",
       "    .dataframe tbody tr th {\n",
       "        vertical-align: top;\n",
       "    }\n",
       "\n",
       "    .dataframe thead th {\n",
       "        text-align: right;\n",
       "    }\n",
       "</style>\n",
       "<table border=\"1\" class=\"dataframe\">\n",
       "  <thead>\n",
       "    <tr style=\"text-align: right;\">\n",
       "      <th></th>\n",
       "      <th>country</th>\n",
       "      <th>total_revenue</th>\n",
       "    </tr>\n",
       "  </thead>\n",
       "  <tbody>\n",
       "    <tr>\n",
       "      <th>0</th>\n",
       "      <td>NL</td>\n",
       "      <td>3335.29</td>\n",
       "    </tr>\n",
       "    <tr>\n",
       "      <th>1</th>\n",
       "      <td>TR</td>\n",
       "      <td>2275.44</td>\n",
       "    </tr>\n",
       "    <tr>\n",
       "      <th>2</th>\n",
       "      <td>US</td>\n",
       "      <td>4035.96</td>\n",
       "    </tr>\n",
       "  </tbody>\n",
       "</table>\n",
       "</div>"
      ],
      "text/plain": [
       "  country  total_revenue\n",
       "0      NL        3335.29\n",
       "1      TR        2275.44\n",
       "2      US        4035.96"
      ]
     },
     "execution_count": 4,
     "metadata": {},
     "output_type": "execute_result"
    }
   ],
   "source": [
    "query = \"\"\"\n",
    "SELECT\n",
    "    users.country,\n",
    "    SUM(user_events.amount_usd) AS total_revenue\n",
    "FROM\n",
    "    users\n",
    "JOIN\n",
    "    user_events ON users.id = user_events.user_id\n",
    "GROUP BY\n",
    "    users.country;\n",
    "    \"\"\"\n",
    "pd.read_sql_query(query, conn)"
   ]
  },
  {
   "cell_type": "markdown",
   "id": "8ad5667a",
   "metadata": {},
   "source": [
    "## 2. Number of Trials from Instagram"
   ]
  },
  {
   "cell_type": "code",
   "execution_count": 5,
   "id": "5d56568e",
   "metadata": {},
   "outputs": [
    {
     "data": {
      "text/html": [
       "<div>\n",
       "<style scoped>\n",
       "    .dataframe tbody tr th:only-of-type {\n",
       "        vertical-align: middle;\n",
       "    }\n",
       "\n",
       "    .dataframe tbody tr th {\n",
       "        vertical-align: top;\n",
       "    }\n",
       "\n",
       "    .dataframe thead th {\n",
       "        text-align: right;\n",
       "    }\n",
       "</style>\n",
       "<table border=\"1\" class=\"dataframe\">\n",
       "  <thead>\n",
       "    <tr style=\"text-align: right;\">\n",
       "      <th></th>\n",
       "      <th>event_name</th>\n",
       "    </tr>\n",
       "  </thead>\n",
       "  <tbody>\n",
       "    <tr>\n",
       "      <th>0</th>\n",
       "      <td>trial_started</td>\n",
       "    </tr>\n",
       "    <tr>\n",
       "      <th>1</th>\n",
       "      <td>trial_started</td>\n",
       "    </tr>\n",
       "    <tr>\n",
       "      <th>2</th>\n",
       "      <td>trial_started</td>\n",
       "    </tr>\n",
       "    <tr>\n",
       "      <th>3</th>\n",
       "      <td>trial_started</td>\n",
       "    </tr>\n",
       "    <tr>\n",
       "      <th>4</th>\n",
       "      <td>trial_started</td>\n",
       "    </tr>\n",
       "    <tr>\n",
       "      <th>...</th>\n",
       "      <td>...</td>\n",
       "    </tr>\n",
       "    <tr>\n",
       "      <th>205</th>\n",
       "      <td>trial_started</td>\n",
       "    </tr>\n",
       "    <tr>\n",
       "      <th>206</th>\n",
       "      <td>trial_started</td>\n",
       "    </tr>\n",
       "    <tr>\n",
       "      <th>207</th>\n",
       "      <td>trial_started</td>\n",
       "    </tr>\n",
       "    <tr>\n",
       "      <th>208</th>\n",
       "      <td>trial_started</td>\n",
       "    </tr>\n",
       "    <tr>\n",
       "      <th>209</th>\n",
       "      <td>trial_started</td>\n",
       "    </tr>\n",
       "  </tbody>\n",
       "</table>\n",
       "<p>210 rows × 1 columns</p>\n",
       "</div>"
      ],
      "text/plain": [
       "        event_name\n",
       "0    trial_started\n",
       "1    trial_started\n",
       "2    trial_started\n",
       "3    trial_started\n",
       "4    trial_started\n",
       "..             ...\n",
       "205  trial_started\n",
       "206  trial_started\n",
       "207  trial_started\n",
       "208  trial_started\n",
       "209  trial_started\n",
       "\n",
       "[210 rows x 1 columns]"
      ]
     },
     "execution_count": 5,
     "metadata": {},
     "output_type": "execute_result"
    }
   ],
   "source": [
    "query = \"\"\"\n",
    "SELECT\n",
    "    user_events.event_name\n",
    "FROM\n",
    "    users\n",
    "JOIN\n",
    "    user_events ON users.id = user_events.user_id\n",
    "WHERE\n",
    "    user_events.event_name = \"trial_started\" AND\n",
    "    users.attribution_source = \"instagram\";\n",
    "    \"\"\"\n",
    "pd.read_sql_query(query, conn)"
   ]
  },
  {
   "cell_type": "markdown",
   "id": "495bcfa5",
   "metadata": {},
   "source": [
    "It is **210**."
   ]
  },
  {
   "cell_type": "markdown",
   "id": "3e29d86f",
   "metadata": {},
   "source": [
    "## 3. Acquisition Channel"
   ]
  },
  {
   "cell_type": "code",
   "execution_count": 6,
   "id": "4e457283",
   "metadata": {},
   "outputs": [],
   "source": [
    "query = \"\"\"\n",
    "SELECT *,\n",
    "\n",
    "    CASE\n",
    "        WHEN attribution_source = 'organic' THEN 'Organic'\n",
    "        ELSE 'Paid'\n",
    "    END AS acquisition_channel\n",
    "FROM users\n",
    "\n",
    "\"\"\"\n",
    "\n",
    "pd.read_sql_query(query, conn)\n",
    "\n",
    "conn.commit()"
   ]
  },
  {
   "cell_type": "markdown",
   "id": "4fbf2dc0",
   "metadata": {},
   "source": [
    "## 4. Trial-to-Subscription Rate"
   ]
  },
  {
   "cell_type": "markdown",
   "id": "5432e951",
   "metadata": {},
   "source": [
    "**(From now on I will use Python libraries for the sake of smoothness: these dummies will be of use later.)**\n",
    "\n",
    "We need to subset those who initiated their trial to calculate the conversion rate."
   ]
  },
  {
   "cell_type": "code",
   "execution_count": 7,
   "id": "98699515",
   "metadata": {},
   "outputs": [],
   "source": [
    "users_df = pd.read_sql_query(\"SELECT * FROM users;\", conn)\n",
    "events_df = pd.read_sql_query(\"SELECT * FROM user_events;\", conn)\n",
    "\n",
    "# Changing the column names for user id and event creation in the users_df dataset to prevent confusion\n",
    "# during the merge:\n",
    "\n",
    "users_df = users_df.rename(columns = {'created_at' : 'account_created', 'id' : 'user_id'})\n",
    "\n",
    "merged_df = pd.merge(users_df, events_df, on = \"user_id\")\n",
    "merged_df\n",
    "\n",
    "# Now let's create trial dummy to filter out those who did not start a trial:\n",
    "merged_df['trialer'] = np.where(merged_df['event_name'] == 'trial_started', 1, 0)\n",
    "\n",
    "#...and another dummy to filter out subscribers:\n",
    "merged_df['subscriber'] = np.where(merged_df['event_name'] == 'subscription_started', 1, 0)\n",
    "\n",
    "# Subsetting\n",
    "trialer = merged_df.groupby('user_id').agg(country = ('country', 'first'),\n",
    "                                          attribution_source = ('attribution_source', 'first'),\n",
    "                                          subscriber = ('subscriber', 'sum'),\n",
    "                                          trialer = ('trialer', 'sum'))\n",
    "trialer = trialer[trialer['trialer'] == 1]\n"
   ]
  },
  {
   "cell_type": "markdown",
   "id": "3621d9c8",
   "metadata": {},
   "source": [
    "And the conversion rate is: "
   ]
  },
  {
   "cell_type": "code",
   "execution_count": 8,
   "id": "9bfd0495",
   "metadata": {},
   "outputs": [
    {
     "data": {
      "text/plain": [
       "0.7052785923753666"
      ]
     },
     "execution_count": 8,
     "metadata": {},
     "output_type": "execute_result"
    }
   ],
   "source": [
    "trialer['subscriber'].mean()"
   ]
  },
  {
   "cell_type": "markdown",
   "id": "510e55a3",
   "metadata": {},
   "source": [
    "...and the breakdown by attribution source would be:"
   ]
  },
  {
   "cell_type": "code",
   "execution_count": 9,
   "id": "c4166774",
   "metadata": {},
   "outputs": [
    {
     "data": {
      "text/html": [
       "<div>\n",
       "<style scoped>\n",
       "    .dataframe tbody tr th:only-of-type {\n",
       "        vertical-align: middle;\n",
       "    }\n",
       "\n",
       "    .dataframe tbody tr th {\n",
       "        vertical-align: top;\n",
       "    }\n",
       "\n",
       "    .dataframe thead th {\n",
       "        text-align: right;\n",
       "    }\n",
       "</style>\n",
       "<table border=\"1\" class=\"dataframe\">\n",
       "  <thead>\n",
       "    <tr style=\"text-align: right;\">\n",
       "      <th></th>\n",
       "      <th>conv_rate</th>\n",
       "    </tr>\n",
       "    <tr>\n",
       "      <th>attribution_source</th>\n",
       "      <th></th>\n",
       "    </tr>\n",
       "  </thead>\n",
       "  <tbody>\n",
       "    <tr>\n",
       "      <th>instagram</th>\n",
       "      <td>0.709524</td>\n",
       "    </tr>\n",
       "    <tr>\n",
       "      <th>organic</th>\n",
       "      <td>0.716102</td>\n",
       "    </tr>\n",
       "    <tr>\n",
       "      <th>tiktok</th>\n",
       "      <td>0.690678</td>\n",
       "    </tr>\n",
       "  </tbody>\n",
       "</table>\n",
       "</div>"
      ],
      "text/plain": [
       "                    conv_rate\n",
       "attribution_source           \n",
       "instagram            0.709524\n",
       "organic              0.716102\n",
       "tiktok               0.690678"
      ]
     },
     "execution_count": 9,
     "metadata": {},
     "output_type": "execute_result"
    }
   ],
   "source": [
    "trialer.groupby('attribution_source').agg(conv_rate = ('subscriber', 'mean'))"
   ]
  },
  {
   "cell_type": "markdown",
   "id": "9966d36a",
   "metadata": {},
   "source": [
    "Customers with organic attribution source have a slightly higher trial-to-subscription rate."
   ]
  },
  {
   "cell_type": "markdown",
   "id": "fb722602",
   "metadata": {},
   "source": [
    "## 5. Median Subscription Duration"
   ]
  },
  {
   "cell_type": "markdown",
   "id": "25566dd6",
   "metadata": {},
   "source": [
    "This is a tricky task since it is not clear if we are interested in a cohort of subscribers or our entire customer base, some of which has never bought subscription. I will do both for the sake of clarity."
   ]
  },
  {
   "cell_type": "markdown",
   "id": "80e1d3db",
   "metadata": {},
   "source": [
    "### 5.1. For All Customers\n",
    "\n",
    "I will create two subsets of customers (those who subscribed at least once and those who have not) and merge them together to calculate the average duration per country. For the former, I will subset the events starting from subscription onwards and take number of subscription creation and renewal entries. Subscription duration of the latter will automatically be assigned to 0.\n",
    "\n",
    "For subscribers:"
   ]
  },
  {
   "cell_type": "code",
   "execution_count": 10,
   "id": "6c8a3248",
   "metadata": {},
   "outputs": [
    {
     "name": "stderr",
     "output_type": "stream",
     "text": [
      "/var/folders/h0/v4b0bs811x35xjk82g1h9bg00000gn/T/ipykernel_14746/1681212960.py:5: SettingWithCopyWarning: \n",
      "A value is trying to be set on a copy of a slice from a DataFrame.\n",
      "Try using .loc[row_indexer,col_indexer] = value instead\n",
      "\n",
      "See the caveats in the documentation: https://pandas.pydata.org/pandas-docs/stable/user_guide/indexing.html#returning-a-view-versus-a-copy\n",
      "  subscribers['renewal'] = np.where(subscribers['event_name'] == 'subscription_renewed', 1, 0)\n"
     ]
    },
    {
     "data": {
      "text/html": [
       "<div>\n",
       "<style scoped>\n",
       "    .dataframe tbody tr th:only-of-type {\n",
       "        vertical-align: middle;\n",
       "    }\n",
       "\n",
       "    .dataframe tbody tr th {\n",
       "        vertical-align: top;\n",
       "    }\n",
       "\n",
       "    .dataframe thead th {\n",
       "        text-align: right;\n",
       "    }\n",
       "</style>\n",
       "<table border=\"1\" class=\"dataframe\">\n",
       "  <thead>\n",
       "    <tr style=\"text-align: right;\">\n",
       "      <th></th>\n",
       "      <th>country</th>\n",
       "      <th>duration</th>\n",
       "      <th>attribution_source</th>\n",
       "    </tr>\n",
       "    <tr>\n",
       "      <th>user_id</th>\n",
       "      <th></th>\n",
       "      <th></th>\n",
       "      <th></th>\n",
       "    </tr>\n",
       "  </thead>\n",
       "  <tbody>\n",
       "    <tr>\n",
       "      <th>2</th>\n",
       "      <td>NL</td>\n",
       "      <td>4</td>\n",
       "      <td>instagram</td>\n",
       "    </tr>\n",
       "    <tr>\n",
       "      <th>3</th>\n",
       "      <td>TR</td>\n",
       "      <td>4</td>\n",
       "      <td>tiktok</td>\n",
       "    </tr>\n",
       "    <tr>\n",
       "      <th>8</th>\n",
       "      <td>TR</td>\n",
       "      <td>2</td>\n",
       "      <td>tiktok</td>\n",
       "    </tr>\n",
       "    <tr>\n",
       "      <th>9</th>\n",
       "      <td>US</td>\n",
       "      <td>2</td>\n",
       "      <td>organic</td>\n",
       "    </tr>\n",
       "    <tr>\n",
       "      <th>10</th>\n",
       "      <td>US</td>\n",
       "      <td>2</td>\n",
       "      <td>organic</td>\n",
       "    </tr>\n",
       "    <tr>\n",
       "      <th>...</th>\n",
       "      <td>...</td>\n",
       "      <td>...</td>\n",
       "      <td>...</td>\n",
       "    </tr>\n",
       "    <tr>\n",
       "      <th>992</th>\n",
       "      <td>US</td>\n",
       "      <td>5</td>\n",
       "      <td>instagram</td>\n",
       "    </tr>\n",
       "    <tr>\n",
       "      <th>995</th>\n",
       "      <td>US</td>\n",
       "      <td>3</td>\n",
       "      <td>instagram</td>\n",
       "    </tr>\n",
       "    <tr>\n",
       "      <th>996</th>\n",
       "      <td>TR</td>\n",
       "      <td>3</td>\n",
       "      <td>organic</td>\n",
       "    </tr>\n",
       "    <tr>\n",
       "      <th>999</th>\n",
       "      <td>NL</td>\n",
       "      <td>3</td>\n",
       "      <td>organic</td>\n",
       "    </tr>\n",
       "    <tr>\n",
       "      <th>1001</th>\n",
       "      <td>US</td>\n",
       "      <td>1</td>\n",
       "      <td>instagram</td>\n",
       "    </tr>\n",
       "  </tbody>\n",
       "</table>\n",
       "<p>481 rows × 3 columns</p>\n",
       "</div>"
      ],
      "text/plain": [
       "        country  duration attribution_source\n",
       "user_id                                     \n",
       "2            NL         4          instagram\n",
       "3            TR         4             tiktok\n",
       "8            TR         2             tiktok\n",
       "9            US         2            organic\n",
       "10           US         2            organic\n",
       "...         ...       ...                ...\n",
       "992          US         5          instagram\n",
       "995          US         3          instagram\n",
       "996          TR         3            organic\n",
       "999          NL         3            organic\n",
       "1001         US         1          instagram\n",
       "\n",
       "[481 rows x 3 columns]"
      ]
     },
     "execution_count": 10,
     "metadata": {},
     "output_type": "execute_result"
    }
   ],
   "source": [
    "subscribers = merged_df[(merged_df['event_name'] == 'subscription_started') |\n",
    "                (merged_df['event_name'] == 'subscription_renewed') |\n",
    "                (merged_df['event_name'] == 'subscription_cancelled')]\n",
    "\n",
    "subscribers['renewal'] = np.where(subscribers['event_name'] == 'subscription_renewed', 1, 0)\n",
    "\n",
    "subscribers = subscribers.groupby('user_id').agg(country = ('country', 'first'),\n",
    "                                                 attribution_source = ('attribution_source', 'first'),\n",
    "                                mindate = ('created_at', 'min'),\n",
    "                                maxdate = ('created_at', 'max'),\n",
    "                                renewal = ('renewal', 'sum'))\n",
    "\n",
    "# Creating a column for duration\n",
    "subscribers['duration'] = (subscribers['renewal'] + 1)\n",
    "\n",
    "# Excluding min- and maxdate columns for the upcoming merge:\n",
    "subscribers = subscribers[['country', 'duration', 'attribution_source']]\n",
    "subscribers"
   ]
  },
  {
   "cell_type": "markdown",
   "id": "7c44c440",
   "metadata": {},
   "source": [
    "and for non-subscribers:"
   ]
  },
  {
   "cell_type": "code",
   "execution_count": 11,
   "id": "a5634b23",
   "metadata": {},
   "outputs": [
    {
     "data": {
      "text/html": [
       "<div>\n",
       "<style scoped>\n",
       "    .dataframe tbody tr th:only-of-type {\n",
       "        vertical-align: middle;\n",
       "    }\n",
       "\n",
       "    .dataframe tbody tr th {\n",
       "        vertical-align: top;\n",
       "    }\n",
       "\n",
       "    .dataframe thead th {\n",
       "        text-align: right;\n",
       "    }\n",
       "</style>\n",
       "<table border=\"1\" class=\"dataframe\">\n",
       "  <thead>\n",
       "    <tr style=\"text-align: right;\">\n",
       "      <th></th>\n",
       "      <th>avg_duration</th>\n",
       "    </tr>\n",
       "    <tr>\n",
       "      <th>country</th>\n",
       "      <th></th>\n",
       "    </tr>\n",
       "  </thead>\n",
       "  <tbody>\n",
       "    <tr>\n",
       "      <th>NL</th>\n",
       "      <td>1.204545</td>\n",
       "    </tr>\n",
       "    <tr>\n",
       "      <th>TR</th>\n",
       "      <td>1.288136</td>\n",
       "    </tr>\n",
       "    <tr>\n",
       "      <th>US</th>\n",
       "      <td>1.188235</td>\n",
       "    </tr>\n",
       "  </tbody>\n",
       "</table>\n",
       "</div>"
      ],
      "text/plain": [
       "         avg_duration\n",
       "country              \n",
       "NL           1.204545\n",
       "TR           1.288136\n",
       "US           1.188235"
      ]
     },
     "execution_count": 11,
     "metadata": {},
     "output_type": "execute_result"
    }
   ],
   "source": [
    "non_subscribers = merged_df.groupby('user_id').agg(subscriber = ('subscriber', 'sum'),\n",
    "                                                  country = ('country', 'first'),\n",
    "                                                  attribution_source = ('attribution_source', 'first'),)\n",
    "\n",
    "non_subscribers = non_subscribers[non_subscribers['subscriber'] == 0]\n",
    "\n",
    "non_subscribers['duration'] = 0\n",
    "non_subscribers = non_subscribers[['country', 'attribution_source', 'duration']]\n",
    "\n",
    "all_customers = pd.concat([non_subscribers, subscribers])\n",
    "\n",
    "all_customers.groupby('country').agg(avg_duration = ('duration', 'mean'))"
   ]
  },
  {
   "cell_type": "markdown",
   "id": "61b12085",
   "metadata": {},
   "source": [
    "### 5.2. For Subscribers"
   ]
  },
  {
   "cell_type": "code",
   "execution_count": 12,
   "id": "b24dd78e",
   "metadata": {},
   "outputs": [
    {
     "data": {
      "text/html": [
       "<div>\n",
       "<style scoped>\n",
       "    .dataframe tbody tr th:only-of-type {\n",
       "        vertical-align: middle;\n",
       "    }\n",
       "\n",
       "    .dataframe tbody tr th {\n",
       "        vertical-align: top;\n",
       "    }\n",
       "\n",
       "    .dataframe thead th {\n",
       "        text-align: right;\n",
       "    }\n",
       "</style>\n",
       "<table border=\"1\" class=\"dataframe\">\n",
       "  <thead>\n",
       "    <tr style=\"text-align: right;\">\n",
       "      <th></th>\n",
       "      <th>avg_duration</th>\n",
       "    </tr>\n",
       "    <tr>\n",
       "      <th>country</th>\n",
       "      <th></th>\n",
       "    </tr>\n",
       "  </thead>\n",
       "  <tbody>\n",
       "    <tr>\n",
       "      <th>NL</th>\n",
       "      <td>2.489933</td>\n",
       "    </tr>\n",
       "    <tr>\n",
       "      <th>TR</th>\n",
       "      <td>2.666667</td>\n",
       "    </tr>\n",
       "    <tr>\n",
       "      <th>US</th>\n",
       "      <td>2.509317</td>\n",
       "    </tr>\n",
       "  </tbody>\n",
       "</table>\n",
       "</div>"
      ],
      "text/plain": [
       "         avg_duration\n",
       "country              \n",
       "NL           2.489933\n",
       "TR           2.666667\n",
       "US           2.509317"
      ]
     },
     "execution_count": 12,
     "metadata": {},
     "output_type": "execute_result"
    }
   ],
   "source": [
    "subscribers.groupby('country').agg(avg_duration = ('duration', 'mean'))"
   ]
  },
  {
   "cell_type": "markdown",
   "id": "33fefb26",
   "metadata": {},
   "source": [
    "## 6. ALT by Country\n",
    "\n",
    "I will follow a similar strategy here using the previous data frame I constructed. Let's first create a new column in our subscribers dataset corresponding to the payment that each subscription month costs."
   ]
  },
  {
   "cell_type": "code",
   "execution_count": 13,
   "id": "b2119ace",
   "metadata": {},
   "outputs": [],
   "source": [
    "conditions = [\n",
    "    subscribers['country'] == \"NL\",\n",
    "    subscribers['country'] == 'US',\n",
    "    subscribers['country'] == 'TR'\n",
    "]\n",
    "\n",
    "choices = [\n",
    "    8.99,\n",
    "    9.99,\n",
    "    4.99\n",
    "]\n",
    "\n",
    "subscribers['amount'] = np.select(conditions, choices, default = 'unknown')\n",
    "subscribers['amount'] = pd.to_numeric(subscribers['amount'])"
   ]
  },
  {
   "cell_type": "markdown",
   "id": "b18bf0a9",
   "metadata": {},
   "source": [
    "...and calculate the lifetime value as the multiplication of subscription duration with the amount per month."
   ]
  },
  {
   "cell_type": "code",
   "execution_count": 14,
   "id": "13237a43",
   "metadata": {},
   "outputs": [],
   "source": [
    "subscribers['lifetime_value'] = (subscribers.duration)*(subscribers.amount)"
   ]
  },
  {
   "cell_type": "markdown",
   "id": "6b1cb61f",
   "metadata": {},
   "source": [
    "As for the non-subscribers, this value is 0. Thus:"
   ]
  },
  {
   "cell_type": "code",
   "execution_count": 15,
   "id": "99aa0900",
   "metadata": {},
   "outputs": [
    {
     "data": {
      "text/html": [
       "<div>\n",
       "<style scoped>\n",
       "    .dataframe tbody tr th:only-of-type {\n",
       "        vertical-align: middle;\n",
       "    }\n",
       "\n",
       "    .dataframe tbody tr th {\n",
       "        vertical-align: top;\n",
       "    }\n",
       "\n",
       "    .dataframe thead th {\n",
       "        text-align: right;\n",
       "    }\n",
       "</style>\n",
       "<table border=\"1\" class=\"dataframe\">\n",
       "  <thead>\n",
       "    <tr style=\"text-align: right;\">\n",
       "      <th></th>\n",
       "      <th>Average_Lifetime_Value</th>\n",
       "    </tr>\n",
       "    <tr>\n",
       "      <th>country</th>\n",
       "      <th></th>\n",
       "    </tr>\n",
       "  </thead>\n",
       "  <tbody>\n",
       "    <tr>\n",
       "      <th>NL</th>\n",
       "      <td>10.828864</td>\n",
       "    </tr>\n",
       "    <tr>\n",
       "      <th>TR</th>\n",
       "      <td>6.427797</td>\n",
       "    </tr>\n",
       "    <tr>\n",
       "      <th>US</th>\n",
       "      <td>11.870471</td>\n",
       "    </tr>\n",
       "  </tbody>\n",
       "</table>\n",
       "</div>"
      ],
      "text/plain": [
       "         Average_Lifetime_Value\n",
       "country                        \n",
       "NL                    10.828864\n",
       "TR                     6.427797\n",
       "US                    11.870471"
      ]
     },
     "execution_count": 15,
     "metadata": {},
     "output_type": "execute_result"
    }
   ],
   "source": [
    "non_subscribers['amount'] = 0\n",
    "non_subscribers['lifetime_value'] = 0\n",
    "\n",
    "# Merging data \n",
    "all_customers = pd.concat([non_subscribers, subscribers])\n",
    "\n",
    "all_customers.groupby('country').agg(Average_Lifetime_Value = ('lifetime_value', 'mean'))"
   ]
  },
  {
   "cell_type": "markdown",
   "id": "b598075e",
   "metadata": {},
   "source": [
    "## 7. Churn Probability for Clark Kent"
   ]
  },
  {
   "cell_type": "markdown",
   "id": "45d12645",
   "metadata": {},
   "source": [
    "Let's exclude Clark Kent from our sample first."
   ]
  },
  {
   "cell_type": "code",
   "execution_count": 16,
   "id": "7b6c006d",
   "metadata": {},
   "outputs": [],
   "source": [
    "novo = merged_df[merged_df['name'] != 'Clark Kent']"
   ]
  },
  {
   "cell_type": "markdown",
   "id": "9aaea24c",
   "metadata": {},
   "source": [
    "A 'churn' could refer to acts in which a customer does not continue their service or subscription, therefore, we can benefit from a three-stage machine learning process in which Clark's odds of starting a trial (1), proceeding with the subscription (2) and sticking to his subscription (3) are analyzed. "
   ]
  },
  {
   "cell_type": "markdown",
   "id": "43f69787",
   "metadata": {},
   "source": [
    "There is significant variation among the total time that our customers spent at different stages (e.g., downloading the app, starting the trial, ending the trial), yet we only have a single entry for Clark Kent. Moreover, although the price of our subscription service would be equally important, it is fixed based on country, leaving us no variation to factor in. Therefore, country origins and acquisition channel would be the two predictors with which we can train our model. **In the following stage, I will construct a binary classification model with a single outcome variable, *churner*, refering to whether the customer ended up leaving the service.** \n",
    "\n",
    "Let's first create an customer-level data including **country origin, acqusition channel, trial status, trial-to-subscription status**, and **ultimate subscription status**. We already have two dummies pertaining to trial and subscription, leaving us with the task of creating a dummy of subscription cancellation."
   ]
  },
  {
   "cell_type": "code",
   "execution_count": 17,
   "id": "82198b96",
   "metadata": {},
   "outputs": [
    {
     "name": "stderr",
     "output_type": "stream",
     "text": [
      "/var/folders/h0/v4b0bs811x35xjk82g1h9bg00000gn/T/ipykernel_14746/963360113.py:1: SettingWithCopyWarning: \n",
      "A value is trying to be set on a copy of a slice from a DataFrame.\n",
      "Try using .loc[row_indexer,col_indexer] = value instead\n",
      "\n",
      "See the caveats in the documentation: https://pandas.pydata.org/pandas-docs/stable/user_guide/indexing.html#returning-a-view-versus-a-copy\n",
      "  novo['cancellation'] = np.where(novo['event_name'] == 'subscription_cancelled', 1, 0)\n"
     ]
    }
   ],
   "source": [
    "novo['cancellation'] = np.where(novo['event_name'] == 'subscription_cancelled', 1, 0)\n",
    "novo_sum = novo.groupby('user_id').agg(country = ('country', 'first'),\n",
    "                                      attribution_source = ('attribution_source', 'first'),\n",
    "                                       acquisition_channel = ('acquisition_channel', 'first'),\n",
    "                                     trial = ('trialer', 'sum'),\n",
    "                                     subscription = ('subscriber', 'sum'),\n",
    "                                     cancellation = ('cancellation', 'sum'))\n",
    "\n",
    "novo_sum['continuation'] = np.where((novo_sum['subscription'] == 1) & (novo_sum['cancellation'] == 0), 1, 0)"
   ]
  },
  {
   "cell_type": "markdown",
   "id": "872fd29f",
   "metadata": {},
   "source": [
    "We can finally create a 'churner' dummy which we will use as the outcome variable:"
   ]
  },
  {
   "cell_type": "code",
   "execution_count": 18,
   "id": "0a808aab",
   "metadata": {},
   "outputs": [],
   "source": [
    "novo_sum['churner'] = np.where(\n",
    "    (novo_sum['trial'] == 0) |\n",
    "    ((novo_sum['trial'] == 1) & (novo_sum['subscription'] == 0)) |\n",
    "    ((novo_sum['subscription'] == 1) & (novo_sum['continuation'] == 0)),\n",
    "    1,\n",
    "    0\n",
    ")"
   ]
  },
  {
   "cell_type": "markdown",
   "id": "640e9cfc",
   "metadata": {},
   "source": [
    "Constructing our binary classification model based on logistic regression:"
   ]
  },
  {
   "cell_type": "code",
   "execution_count": 19,
   "id": "0066e380",
   "metadata": {},
   "outputs": [],
   "source": [
    "from sklearn.model_selection import train_test_split\n",
    "from sklearn.preprocessing import OneHotEncoder\n",
    "from sklearn.linear_model import LogisticRegression\n",
    "\n",
    "X = novo_sum[['country', 'attribution_source']]\n",
    "y = novo_sum['churner']\n",
    "\n",
    "# Turning our categorical predictors into dummies for the training:\n",
    "X_encoded = pd.get_dummies(X, drop_first=True)\n",
    "\n",
    "# Creating our training and test groups:\n",
    "X_train, X_test, y_train, y_test = train_test_split(X_encoded, y, test_size=0.2, random_state=42)\n",
    "\n",
    "# Subsetting and preparing Mr. Kent's data for prediction\n",
    "\n",
    "clark_kent = merged_df[merged_df['name'] == 'Clark Kent']\n",
    "clark_kent = clark_kent[['country', 'attribution_source']]\n",
    "\n",
    "clark_kent = clark_kent.reindex(columns=X_encoded.columns, fill_value=0)\n",
    "\n",
    "### Final step: Bootstrapped CIs and predicted probability for Clark Kent\n",
    "\n",
    "# Set seed for reproducability:\n",
    "np.random.seed(42)\n",
    "\n",
    "n_bootstraps = 1000\n",
    "boot_preds = []\n",
    "\n",
    "for _ in range(n_bootstraps):\n",
    "    \n",
    "    X_resampled = X_train.sample(frac=1, replace=True, random_state=np.random.randint(10000))\n",
    "    y_resampled = y_train.loc[X_resampled.index]\n",
    "\n",
    "   \n",
    "    model_boot = LogisticRegression()\n",
    "    model_boot.fit(X_resampled, y_resampled)\n",
    "\n",
    "    \n",
    "    boot_preds.append(model_boot.predict_proba(clark_kent)[:, 1][0])\n",
    "\n",
    "\n",
    "lower_bound = np.percentile(boot_preds, 2.5)\n",
    "upper_bound = np.percentile(boot_preds, 97.5)\n",
    "\n",
    "churn_probability = model_boot.predict_proba(clark_kent)[:, 1]"
   ]
  },
  {
   "cell_type": "markdown",
   "id": "991dd8af",
   "metadata": {},
   "source": [
    "Mr. Kent's estimated probability of turning out to be a churner in the end with confidence intervals is:"
   ]
  },
  {
   "cell_type": "code",
   "execution_count": 20,
   "id": "376d95f8",
   "metadata": {},
   "outputs": [
    {
     "name": "stdout",
     "output_type": "stream",
     "text": [
      "Churn Probability: 0.88\n",
      "95% Confidence Interval: [0.80, 0.91]\n"
     ]
    }
   ],
   "source": [
    "print(f\"Churn Probability: {churn_probability[0]:.2f}\")\n",
    "print(f\"95% Confidence Interval: [{lower_bound:.2f}, {upper_bound:.2f}]\")"
   ]
  },
  {
   "cell_type": "markdown",
   "id": "253764c9",
   "metadata": {},
   "source": [
    "Let's visualize how different observations in two of our predictors affect the likelihood of turning out to be a churner by using the coefficients in our logistic regression baseline:"
   ]
  },
  {
   "cell_type": "code",
   "execution_count": 21,
   "id": "b43551d8",
   "metadata": {},
   "outputs": [
    {
     "data": {
      "image/png": "[encoded data removed]",
      "text/plain": [
       "<Figure size 750x450 with 1 Axes>"
      ]
     },
     "metadata": {},
     "output_type": "display_data"
    }
   ],
   "source": [
    "coefficients = model_boot.coef_[0]\n",
    "predictor_names = X_encoded.columns\n",
    "\n",
    "coef_df = pd.DataFrame({'Predictor': predictor_names, 'Coefficient': coefficients})\n",
    "coef_df = coef_df.sort_values(by='Coefficient', ascending=False)\n",
    "\n",
    "plt.figure(figsize=(7.5, 4.5))\n",
    "plt.barh(coef_df['Predictor'], coef_df['Coefficient'], color = 'darkred')\n",
    "plt.xlabel('Coefficient Value')\n",
    "plt.ylabel('Predictor')\n",
    "plt.title('Determinants of Ending Up a Churner', fontweight = 'bold')\n",
    "plt.show()"
   ]
  },
  {
   "cell_type": "markdown",
   "id": "1cd55301",
   "metadata": {},
   "source": [
    "We see that the Turkish customers are more likely to end up as churners compared to those from the Netherlands or the US, whereas customers whose attribution source is tiktok or organic are less likely to churn compared to those coming from Instagram. Note that Clark Kent is from Turkey and his attribution source is organic.\n",
    "\n",
    "**However**, this one-step binary classification model alongside others does not tell us much on different pathways to churn: not starting the trial run after downloading the app (1), not subscribing to the paid service after the trial period (2), or cancelling the subscription (3). Therefore, I propose replicate the same analysis for these three distinct stages below."
   ]
  },
  {
   "cell_type": "markdown",
   "id": "8d3f9f53",
   "metadata": {},
   "source": [
    "### 7. A. Download-to-Trial"
   ]
  },
  {
   "cell_type": "markdown",
   "id": "3e57ff33",
   "metadata": {},
   "source": [
    "We already have a 'trial' dummy which we will use as our outcome variable."
   ]
  },
  {
   "cell_type": "code",
   "execution_count": 22,
   "id": "38eb4450",
   "metadata": {},
   "outputs": [],
   "source": [
    "novo_sum['no_trial'] = np.where(novo_sum['trial'] == 0, 1, 0)\n",
    "\n",
    "X = novo_sum[['country', 'attribution_source']]\n",
    "y = novo_sum['no_trial']\n",
    "\n",
    "# Turning our categorical predictors into dummies for the training:\n",
    "X_encoded = pd.get_dummies(X, drop_first=True)\n",
    "\n",
    "X_train, X_test, y_train, y_test = train_test_split(X_encoded, y, test_size=0.2, random_state=42)\n",
    "\n",
    "\n",
    "# Set seed for reproducability:\n",
    "np.random.seed(42)\n",
    "\n",
    "n_bootstraps = 1000\n",
    "boot_preds = []\n",
    "\n",
    "for _ in range(n_bootstraps):\n",
    "\n",
    "    X_resampled = X_train.sample(frac=1, replace=True, random_state=np.random.randint(10000))\n",
    "    y_resampled = y_train.loc[X_resampled.index]\n",
    "\n",
    "    \n",
    "    model_boot = LogisticRegression()\n",
    "    model_boot.fit(X_resampled, y_resampled)\n",
    "\n",
    "    \n",
    "    boot_preds.append(model_boot.predict_proba(clark_kent)[:, 1][0])\n",
    "\n",
    "\n",
    "lower_bound = np.percentile(boot_preds, 2.5)\n",
    "upper_bound = np.percentile(boot_preds, 97.5)\n",
    "\n",
    "no_trial_probability = model_boot.predict_proba(clark_kent)[:, 1]"
   ]
  },
  {
   "cell_type": "markdown",
   "id": "62ad4404",
   "metadata": {},
   "source": [
    "Making Mr. Kent's probability of not starting the trial:"
   ]
  },
  {
   "cell_type": "code",
   "execution_count": 23,
   "id": "44f48047",
   "metadata": {},
   "outputs": [
    {
     "name": "stdout",
     "output_type": "stream",
     "text": [
      "No Trial Probability: 0.24\n",
      "95% Confidence Interval: [0.20, 0.34]\n"
     ]
    }
   ],
   "source": [
    "print(f\"No Trial Probability: {no_trial_probability[0]:.2f}\")\n",
    "print(f\"95% Confidence Interval: [{lower_bound:.2f}, {upper_bound:.2f}]\")"
   ]
  },
  {
   "cell_type": "markdown",
   "id": "10d55562",
   "metadata": {},
   "source": [
    "Let's visualize the determinants: "
   ]
  },
  {
   "cell_type": "code",
   "execution_count": 24,
   "id": "f4b0b99b",
   "metadata": {},
   "outputs": [
    {
     "data": {
      "image/png": "[encoded data removed]",
      "text/plain": [
       "<Figure size 750x450 with 1 Axes>"
      ]
     },
     "metadata": {},
     "output_type": "display_data"
    }
   ],
   "source": [
    "coefficients = model_boot.coef_[0]\n",
    "predictor_names = X_encoded.columns\n",
    "\n",
    "coef_df = pd.DataFrame({'Predictor': predictor_names, 'Coefficient': coefficients})\n",
    "coef_df = coef_df.sort_values(by='Coefficient', ascending=False)\n",
    "\n",
    "plt.figure(figsize=(7.5, 4.5))\n",
    "plt.barh(coef_df['Predictor'], coef_df['Coefficient'], color = 'darkblue')\n",
    "plt.xlabel('Coefficient Value')\n",
    "plt.ylabel('Predictor')\n",
    "plt.title('Determinants of Not Starting a Trial', fontweight = 'bold')\n",
    "plt.show()"
   ]
  },
  {
   "cell_type": "markdown",
   "id": "ce7019ac",
   "metadata": {},
   "source": [
    "Our logistic regression model output shows that being from Turkey sizably increases the odds of failing to start a trial run compared to the Netherlands and the US, while having an organic attribution source seems to have little to no effect compared to users from Instagram. Recalling that Mr. Kent is from Turkey, he is at a relatively higher risk."
   ]
  },
  {
   "cell_type": "markdown",
   "id": "b303a27b",
   "metadata": {},
   "source": [
    "### 7.B. Trial-to-Subscription"
   ]
  },
  {
   "cell_type": "markdown",
   "id": "a93f6c4a",
   "metadata": {},
   "source": [
    "For this step, we will subset the users who initiated their trial run to see the odds of Clark Kent starting his subscription **provided that** he has started his trial run."
   ]
  },
  {
   "cell_type": "code",
   "execution_count": 25,
   "id": "357cff6f",
   "metadata": {},
   "outputs": [],
   "source": [
    "test2 = novo_sum[novo_sum['trial'] == 1]"
   ]
  },
  {
   "cell_type": "markdown",
   "id": "24615064",
   "metadata": {},
   "source": [
    "Then we will replicate our previous strategy by using a new dummy on transitioning to paid subscription as the outcome variable."
   ]
  },
  {
   "cell_type": "code",
   "execution_count": 26,
   "id": "28b9cb93",
   "metadata": {},
   "outputs": [
    {
     "name": "stderr",
     "output_type": "stream",
     "text": [
      "/var/folders/h0/v4b0bs811x35xjk82g1h9bg00000gn/T/ipykernel_14746/2784614107.py:1: SettingWithCopyWarning: \n",
      "A value is trying to be set on a copy of a slice from a DataFrame.\n",
      "Try using .loc[row_indexer,col_indexer] = value instead\n",
      "\n",
      "See the caveats in the documentation: https://pandas.pydata.org/pandas-docs/stable/user_guide/indexing.html#returning-a-view-versus-a-copy\n",
      "  test2['fail_to_subscribe'] = np.where(test2['subscription'] == 0, 1, 0)\n"
     ]
    }
   ],
   "source": [
    "test2['fail_to_subscribe'] = np.where(test2['subscription'] == 0, 1, 0)\n",
    "\n",
    "X = test2[['country', 'attribution_source']]\n",
    "y = test2['fail_to_subscribe']\n",
    "\n",
    "# Turning our categorical predictors into dummies for the training:\n",
    "X_encoded = pd.get_dummies(X, drop_first=True)\n",
    "\n",
    "X_train, X_test, y_train, y_test = train_test_split(X_encoded, y, test_size=0.2, random_state=42)\n",
    "\n",
    "\n",
    "# Set seed for reproducability:\n",
    "np.random.seed(42)\n",
    "\n",
    "n_bootstraps = 1000\n",
    "boot_preds = []\n",
    "\n",
    "for _ in range(n_bootstraps):\n",
    "    # Resample data with replacement\n",
    "    X_resampled = X_train.sample(frac=1, replace=True, random_state=np.random.randint(10000))\n",
    "    y_resampled = y_train.loc[X_resampled.index]\n",
    "\n",
    "    # Train a new model on resampled data\n",
    "    model_boot = LogisticRegression()\n",
    "    model_boot.fit(X_resampled, y_resampled)\n",
    "\n",
    "    # Predict probability for the new customer\n",
    "    boot_preds.append(model_boot.predict_proba(clark_kent)[:, 1][0])\n",
    "\n",
    "# Compute confidence intervals\n",
    "lower_bound = np.percentile(boot_preds, 2.5)\n",
    "upper_bound = np.percentile(boot_preds, 97.5)\n",
    "\n",
    "nosubscription_probability = model_boot.predict_proba(clark_kent)[:, 1]\n"
   ]
  },
  {
   "cell_type": "markdown",
   "id": "0b663de4",
   "metadata": {},
   "source": [
    "Making his odds of starting the subscription **if** he has used a trial run:"
   ]
  },
  {
   "cell_type": "code",
   "execution_count": 27,
   "id": "994a37a7",
   "metadata": {},
   "outputs": [
    {
     "name": "stdout",
     "output_type": "stream",
     "text": [
      "No Subscription Probability: 0.40\n",
      "95% Confidence Interval: [0.24, 0.41]\n"
     ]
    }
   ],
   "source": [
    "print(f\"No Subscription Probability: {nosubscription_probability[0]:.2f}\")\n",
    "print(f\"95% Confidence Interval: [{lower_bound:.2f}, {upper_bound:.2f}]\")"
   ]
  },
  {
   "cell_type": "markdown",
   "id": "d1d36572",
   "metadata": {},
   "source": [
    "Visualizing the determinants of not starting subscription upon the trial period:"
   ]
  },
  {
   "cell_type": "code",
   "execution_count": 28,
   "id": "743dd1f2",
   "metadata": {},
   "outputs": [
    {
     "data": {
      "image/png": "[encoded data removed]",
      "text/plain": [
       "<Figure size 750x450 with 1 Axes>"
      ]
     },
     "metadata": {},
     "output_type": "display_data"
    }
   ],
   "source": [
    "coefficients = model_boot.coef_[0]\n",
    "predictor_names = X_encoded.columns\n",
    "\n",
    "coef_df = pd.DataFrame({'Predictor': predictor_names, 'Coefficient': coefficients})\n",
    "coef_df = coef_df.sort_values(by='Coefficient', ascending=False)\n",
    "\n",
    "plt.figure(figsize=(7.5, 4.5))\n",
    "plt.barh(coef_df['Predictor'], coef_df['Coefficient'], color = 'teal')\n",
    "plt.xlabel('Coefficient Value')\n",
    "plt.ylabel('Predictor')\n",
    "plt.title('Determinants of Trial-to-Subscription Failure', fontweight = 'bold')\n",
    "plt.show()"
   ]
  },
  {
   "cell_type": "markdown",
   "id": "a4596421",
   "metadata": {},
   "source": [
    "This output shows that being from Turkey (where Mr. Kent is from) has a positive effect on increasing the chance of continuing with subscription after trial, and users with organic attribution sources are also much less likely to drop out of the path toward subscription. These figures do not address why we still observe a fairly high chance of churn (0.4) and call for more parameters to include (age, gender, other relevant user data)."
   ]
  },
  {
   "cell_type": "markdown",
   "id": "908e29f6",
   "metadata": {},
   "source": [
    "### 7.C. Churn as a Subscriber\n",
    "\n",
    "At this latest stage, we will subset those users who started their subscription and create a new binary outcome variable based on whether they cancelled their subscription."
   ]
  },
  {
   "cell_type": "code",
   "execution_count": 29,
   "id": "ec4835fd",
   "metadata": {},
   "outputs": [],
   "source": [
    "test3 = novo_sum[novo_sum['subscription'] == 1]\n",
    "test3\n",
    "\n",
    "X = test3[['country', 'attribution_source']]\n",
    "y = test3['cancellation']\n",
    "\n",
    "# Turning our categorical predictors into dummies for the training:\n",
    "X_encoded = pd.get_dummies(X, drop_first=True)\n",
    "\n",
    "X_train, X_test, y_train, y_test = train_test_split(X_encoded, y, test_size=0.2, random_state=42)\n",
    "\n",
    "###\n",
    "\n",
    "# Set seed for reproducability:\n",
    "np.random.seed(42)\n",
    "\n",
    "n_bootstraps = 1000\n",
    "boot_preds = []\n",
    "\n",
    "\n",
    "for _ in range(n_bootstraps):\n",
    "    \n",
    "    X_resampled = X_train.sample(frac=1, replace=True, random_state=np.random.randint(10000))\n",
    "    y_resampled = y_train.loc[X_resampled.index]\n",
    "\n",
    "    \n",
    "    model_boot = LogisticRegression()\n",
    "    model_boot.fit(X_resampled, y_resampled)\n",
    "\n",
    "    \n",
    "    boot_preds.append(model_boot.predict_proba(clark_kent)[:, 1][0])\n",
    "\n",
    "\n",
    "lower_bound = np.percentile(boot_preds, 2.5)\n",
    "upper_bound = np.percentile(boot_preds, 97.5)\n",
    "\n",
    "cancellation_probability = model_boot.predict_proba(clark_kent)[:, 1]"
   ]
  },
  {
   "cell_type": "markdown",
   "id": "63c5672e",
   "metadata": {},
   "source": [
    "Making Mr. Kent's likelihood to cancel his subscription **as a subscriber**:"
   ]
  },
  {
   "cell_type": "code",
   "execution_count": 30,
   "id": "080b58d8",
   "metadata": {},
   "outputs": [
    {
     "name": "stdout",
     "output_type": "stream",
     "text": [
      "Cancellation Probability: 0.67\n",
      "95% Confidence Interval: [0.65, 0.83]\n"
     ]
    }
   ],
   "source": [
    "print(f\"Cancellation Probability: {cancellation_probability[0]:.2f}\")\n",
    "print(f\"95% Confidence Interval: [{lower_bound:.2f}, {upper_bound:.2f}]\")"
   ]
  },
  {
   "cell_type": "markdown",
   "id": "b2a0b9cf",
   "metadata": {},
   "source": [
    "Visualizing the determinants of churn as among subscribers:"
   ]
  },
  {
   "cell_type": "code",
   "execution_count": 31,
   "id": "d49e3528",
   "metadata": {},
   "outputs": [
    {
     "data": {
      "image/png": "[encoded data removed]",
      "text/plain": [
       "<Figure size 750x450 with 1 Axes>"
      ]
     },
     "metadata": {},
     "output_type": "display_data"
    }
   ],
   "source": [
    "coefficients = model_boot.coef_[0]\n",
    "predictor_names = X_encoded.columns\n",
    "\n",
    "coef_df = pd.DataFrame({'Predictor': predictor_names, 'Coefficient': coefficients})\n",
    "coef_df = coef_df.sort_values(by='Coefficient', ascending=False)\n",
    "\n",
    "plt.figure(figsize=(7.5, 4.5))\n",
    "plt.barh(coef_df['Predictor'], coef_df['Coefficient'], color = 'darkgreen')\n",
    "plt.xlabel('Coefficient Value')\n",
    "plt.ylabel('Predictor')\n",
    "plt.title('Determinants of Churn among Subscribers', fontweight = 'bold')\n",
    "plt.show()"
   ]
  },
  {
   "cell_type": "markdown",
   "id": "99dbcb03",
   "metadata": {},
   "source": [
    "We see that although the Turkish subscribers are slightly less likely to drop out of their subscription plan, having an organic attribution source makes it more likely to do so compared to customers from Instagram and Tiktok, explaining why Mr. Kent's estimated churn probability at the last stage is quite high (0.67).\n",
    "\n",
    "This 3-stage analysis allows us to see that **the churn probabilities and their determinants differ by each stage**: although Mr. Kent's odds of churning through not starting a trial is quite low (around 0.24), his probability of not transitioning to paid transcription is fairly high (0.4) and eventually, his likelihood to stop renewing his subscription is very likely (0.67)."
   ]
  },
  {
   "cell_type": "markdown",
   "id": "be86fe09",
   "metadata": {},
   "source": [
    "## 8. Potential Lifetime Value for Bruce Wayne"
   ]
  },
  {
   "cell_type": "code",
   "execution_count": 32,
   "id": "7f439cc3",
   "metadata": {},
   "outputs": [
    {
     "data": {
      "text/html": [
       "<div>\n",
       "<style scoped>\n",
       "    .dataframe tbody tr th:only-of-type {\n",
       "        vertical-align: middle;\n",
       "    }\n",
       "\n",
       "    .dataframe tbody tr th {\n",
       "        vertical-align: top;\n",
       "    }\n",
       "\n",
       "    .dataframe thead th {\n",
       "        text-align: right;\n",
       "    }\n",
       "</style>\n",
       "<table border=\"1\" class=\"dataframe\">\n",
       "  <thead>\n",
       "    <tr style=\"text-align: right;\">\n",
       "      <th></th>\n",
       "      <th>user_id</th>\n",
       "      <th>account_created</th>\n",
       "      <th>attribution_source</th>\n",
       "      <th>country</th>\n",
       "      <th>name</th>\n",
       "      <th>acquisition_channel</th>\n",
       "      <th>id</th>\n",
       "      <th>created_at</th>\n",
       "      <th>event_name</th>\n",
       "      <th>amount_usd</th>\n",
       "      <th>trialer</th>\n",
       "      <th>subscriber</th>\n",
       "    </tr>\n",
       "  </thead>\n",
       "  <tbody>\n",
       "    <tr>\n",
       "      <th>3482</th>\n",
       "      <td>1001</td>\n",
       "      <td>2025-02-16T00:00:00</td>\n",
       "      <td>instagram</td>\n",
       "      <td>US</td>\n",
       "      <td>Bruce Wayne</td>\n",
       "      <td>None</td>\n",
       "      <td>3483</td>\n",
       "      <td>2025-02-25T00:00:00</td>\n",
       "      <td>app_install</td>\n",
       "      <td>NaN</td>\n",
       "      <td>0</td>\n",
       "      <td>0</td>\n",
       "    </tr>\n",
       "    <tr>\n",
       "      <th>3483</th>\n",
       "      <td>1001</td>\n",
       "      <td>2025-02-16T00:00:00</td>\n",
       "      <td>instagram</td>\n",
       "      <td>US</td>\n",
       "      <td>Bruce Wayne</td>\n",
       "      <td>None</td>\n",
       "      <td>3484</td>\n",
       "      <td>2025-02-25T00:00:00</td>\n",
       "      <td>trial_started</td>\n",
       "      <td>NaN</td>\n",
       "      <td>1</td>\n",
       "      <td>0</td>\n",
       "    </tr>\n",
       "    <tr>\n",
       "      <th>3484</th>\n",
       "      <td>1001</td>\n",
       "      <td>2025-02-16T00:00:00</td>\n",
       "      <td>instagram</td>\n",
       "      <td>US</td>\n",
       "      <td>Bruce Wayne</td>\n",
       "      <td>None</td>\n",
       "      <td>3485</td>\n",
       "      <td>2025-02-25T00:00:00</td>\n",
       "      <td>subscription_started</td>\n",
       "      <td>9.99</td>\n",
       "      <td>0</td>\n",
       "      <td>1</td>\n",
       "    </tr>\n",
       "  </tbody>\n",
       "</table>\n",
       "</div>"
      ],
      "text/plain": [
       "      user_id      account_created attribution_source country         name  \\\n",
       "3482     1001  2025-02-16T00:00:00          instagram      US  Bruce Wayne   \n",
       "3483     1001  2025-02-16T00:00:00          instagram      US  Bruce Wayne   \n",
       "3484     1001  2025-02-16T00:00:00          instagram      US  Bruce Wayne   \n",
       "\n",
       "     acquisition_channel    id           created_at            event_name  \\\n",
       "3482                None  3483  2025-02-25T00:00:00           app_install   \n",
       "3483                None  3484  2025-02-25T00:00:00         trial_started   \n",
       "3484                None  3485  2025-02-25T00:00:00  subscription_started   \n",
       "\n",
       "      amount_usd  trialer  subscriber  \n",
       "3482         NaN        0           0  \n",
       "3483         NaN        1           0  \n",
       "3484        9.99        0           1  "
      ]
     },
     "execution_count": 32,
     "metadata": {},
     "output_type": "execute_result"
    }
   ],
   "source": [
    "merged_df[merged_df['name'] == 'Bruce Wayne']"
   ]
  },
  {
   "cell_type": "markdown",
   "id": "6a991f6e",
   "metadata": {},
   "source": [
    "We see that Bruce is an American customer who has just started his subscription. Hence, estimating his potential lifetime value should be based on a model drawing on a sample of subscribers. Let's replicate our previous subsetting process while excluding Bruce from the new subset."
   ]
  },
  {
   "cell_type": "code",
   "execution_count": 33,
   "id": "ce64e7f4",
   "metadata": {},
   "outputs": [
    {
     "data": {
      "text/html": [
       "<div>\n",
       "<style scoped>\n",
       "    .dataframe tbody tr th:only-of-type {\n",
       "        vertical-align: middle;\n",
       "    }\n",
       "\n",
       "    .dataframe tbody tr th {\n",
       "        vertical-align: top;\n",
       "    }\n",
       "\n",
       "    .dataframe thead th {\n",
       "        text-align: right;\n",
       "    }\n",
       "</style>\n",
       "<table border=\"1\" class=\"dataframe\">\n",
       "  <thead>\n",
       "    <tr style=\"text-align: right;\">\n",
       "      <th></th>\n",
       "      <th>country</th>\n",
       "      <th>duration</th>\n",
       "      <th>attribution_source</th>\n",
       "      <th>amount</th>\n",
       "      <th>lifetime_value</th>\n",
       "    </tr>\n",
       "    <tr>\n",
       "      <th>user_id</th>\n",
       "      <th></th>\n",
       "      <th></th>\n",
       "      <th></th>\n",
       "      <th></th>\n",
       "      <th></th>\n",
       "    </tr>\n",
       "  </thead>\n",
       "  <tbody>\n",
       "    <tr>\n",
       "      <th>2</th>\n",
       "      <td>NL</td>\n",
       "      <td>4</td>\n",
       "      <td>instagram</td>\n",
       "      <td>8.99</td>\n",
       "      <td>35.96</td>\n",
       "    </tr>\n",
       "    <tr>\n",
       "      <th>3</th>\n",
       "      <td>TR</td>\n",
       "      <td>4</td>\n",
       "      <td>tiktok</td>\n",
       "      <td>4.99</td>\n",
       "      <td>19.96</td>\n",
       "    </tr>\n",
       "    <tr>\n",
       "      <th>8</th>\n",
       "      <td>TR</td>\n",
       "      <td>2</td>\n",
       "      <td>tiktok</td>\n",
       "      <td>4.99</td>\n",
       "      <td>9.98</td>\n",
       "    </tr>\n",
       "    <tr>\n",
       "      <th>9</th>\n",
       "      <td>US</td>\n",
       "      <td>2</td>\n",
       "      <td>organic</td>\n",
       "      <td>9.99</td>\n",
       "      <td>19.98</td>\n",
       "    </tr>\n",
       "    <tr>\n",
       "      <th>10</th>\n",
       "      <td>US</td>\n",
       "      <td>2</td>\n",
       "      <td>organic</td>\n",
       "      <td>9.99</td>\n",
       "      <td>19.98</td>\n",
       "    </tr>\n",
       "    <tr>\n",
       "      <th>...</th>\n",
       "      <td>...</td>\n",
       "      <td>...</td>\n",
       "      <td>...</td>\n",
       "      <td>...</td>\n",
       "      <td>...</td>\n",
       "    </tr>\n",
       "    <tr>\n",
       "      <th>991</th>\n",
       "      <td>TR</td>\n",
       "      <td>4</td>\n",
       "      <td>organic</td>\n",
       "      <td>4.99</td>\n",
       "      <td>19.96</td>\n",
       "    </tr>\n",
       "    <tr>\n",
       "      <th>992</th>\n",
       "      <td>US</td>\n",
       "      <td>5</td>\n",
       "      <td>instagram</td>\n",
       "      <td>9.99</td>\n",
       "      <td>49.95</td>\n",
       "    </tr>\n",
       "    <tr>\n",
       "      <th>995</th>\n",
       "      <td>US</td>\n",
       "      <td>3</td>\n",
       "      <td>instagram</td>\n",
       "      <td>9.99</td>\n",
       "      <td>29.97</td>\n",
       "    </tr>\n",
       "    <tr>\n",
       "      <th>996</th>\n",
       "      <td>TR</td>\n",
       "      <td>3</td>\n",
       "      <td>organic</td>\n",
       "      <td>4.99</td>\n",
       "      <td>14.97</td>\n",
       "    </tr>\n",
       "    <tr>\n",
       "      <th>999</th>\n",
       "      <td>NL</td>\n",
       "      <td>3</td>\n",
       "      <td>organic</td>\n",
       "      <td>8.99</td>\n",
       "      <td>26.97</td>\n",
       "    </tr>\n",
       "  </tbody>\n",
       "</table>\n",
       "<p>480 rows × 5 columns</p>\n",
       "</div>"
      ],
      "text/plain": [
       "        country  duration attribution_source  amount  lifetime_value\n",
       "user_id                                                             \n",
       "2            NL         4          instagram    8.99           35.96\n",
       "3            TR         4             tiktok    4.99           19.96\n",
       "8            TR         2             tiktok    4.99            9.98\n",
       "9            US         2            organic    9.99           19.98\n",
       "10           US         2            organic    9.99           19.98\n",
       "...         ...       ...                ...     ...             ...\n",
       "991          TR         4            organic    4.99           19.96\n",
       "992          US         5          instagram    9.99           49.95\n",
       "995          US         3          instagram    9.99           29.97\n",
       "996          TR         3            organic    4.99           14.97\n",
       "999          NL         3            organic    8.99           26.97\n",
       "\n",
       "[480 rows x 5 columns]"
      ]
     },
     "execution_count": 33,
     "metadata": {},
     "output_type": "execute_result"
    }
   ],
   "source": [
    "subscribers = subscribers[subscribers.index != 1001]\n",
    "subscribers"
   ]
  },
  {
   "cell_type": "markdown",
   "id": "3d66c77b",
   "metadata": {},
   "source": [
    "We can now train our Poisson model where lifetime value is the outcome variable. As in previous models, I will use bootstrapped standard errors to get more reliable confidence intervals."
   ]
  },
  {
   "cell_type": "code",
   "execution_count": 34,
   "id": "a462eb5b",
   "metadata": {},
   "outputs": [
    {
     "name": "stderr",
     "output_type": "stream",
     "text": [
      "/var/folders/h0/v4b0bs811x35xjk82g1h9bg00000gn/T/ipykernel_14746/608695417.py:3: SettingWithCopyWarning: \n",
      "A value is trying to be set on a copy of a slice from a DataFrame.\n",
      "Try using .loc[row_indexer,col_indexer] = value instead\n",
      "\n",
      "See the caveats in the documentation: https://pandas.pydata.org/pandas-docs/stable/user_guide/indexing.html#returning-a-view-versus-a-copy\n",
      "  subscribers['lifetime_value'] = pd.to_numeric(subscribers['lifetime_value'], errors='coerce')\n",
      "/var/folders/h0/v4b0bs811x35xjk82g1h9bg00000gn/T/ipykernel_14746/608695417.py:4: SettingWithCopyWarning: \n",
      "A value is trying to be set on a copy of a slice from a DataFrame\n",
      "\n",
      "See the caveats in the documentation: https://pandas.pydata.org/pandas-docs/stable/user_guide/indexing.html#returning-a-view-versus-a-copy\n",
      "  subscribers.dropna(subset=['lifetime_value'], inplace=True) #remove NaN values.\n"
     ]
    },
    {
     "name": "stdout",
     "output_type": "stream",
     "text": [
      "Potential Lifetime Value: 24.59\n",
      "95% Confidence Interval: [20.26, 24.85]\n"
     ]
    }
   ],
   "source": [
    "from sklearn.linear_model import LinearRegression\n",
    "\n",
    "subscribers['lifetime_value'] = pd.to_numeric(subscribers['lifetime_value'], errors='coerce')\n",
    "subscribers.dropna(subset=['lifetime_value'], inplace=True) #remove NaN values.\n",
    "\n",
    "X = subscribers[['country', 'attribution_source']]\n",
    "y = subscribers['lifetime_value']\n",
    "\n",
    "X_encoded = pd.get_dummies(X, drop_first=True)\n",
    "\n",
    "X_train, X_test, y_train, y_test = train_test_split(X_encoded, y, test_size=0.2, random_state=42)\n",
    "\n",
    "bruce_wayne = merged_df[(merged_df['name'] == 'Bruce Wayne') & (merged_df['event_name'] == 'subscription_started')]\n",
    "bruce_wayne = bruce_wayne[['country', 'attribution_source']]\n",
    "\n",
    "bruce_wayne_encoded = pd.get_dummies(bruce_wayne, drop_first=True).reindex(columns=X_encoded.columns, fill_value=0)\n",
    "\n",
    "np.random.seed(42)\n",
    "n_bootstraps = 1000\n",
    "boot_preds = []\n",
    "\n",
    "for _ in range(n_bootstraps):\n",
    "    X_resampled = X_train.sample(frac=1, replace=True)\n",
    "    y_resampled = y_train.loc[X_resampled.index]\n",
    "\n",
    "    model_boot = LinearRegression()  # Use LinearRegression\n",
    "    model_boot.fit(X_resampled, y_resampled)\n",
    "\n",
    "    boot_preds.append(model_boot.predict(bruce_wayne_encoded)[0])\n",
    "\n",
    "lower_bound = np.percentile(boot_preds, 2.5)\n",
    "upper_bound = np.percentile(boot_preds, 97.5)\n",
    "\n",
    "predicted_ltv = model_boot.predict(bruce_wayne_encoded)\n",
    "\n",
    "print(f\"Potential Lifetime Value: {predicted_ltv[0]:.2f}\")\n",
    "print(f\"95% Confidence Interval: [{lower_bound:.2f}, {upper_bound:.2f}]\")"
   ]
  },
  {
   "cell_type": "markdown",
   "id": "1d00699e",
   "metadata": {},
   "source": [
    "Like in our previous analyses, we can visualize the determinants of the results and their coefficient strengths. "
   ]
  },
  {
   "cell_type": "code",
   "execution_count": 35,
   "id": "92ecccc1",
   "metadata": {},
   "outputs": [
    {
     "data": {
      "image/png": "[encoded data removed]",
      "text/plain": [
       "<Figure size 1000x600 with 1 Axes>"
      ]
     },
     "metadata": {},
     "output_type": "display_data"
    }
   ],
   "source": [
    "coefficients = model_boot.coef_\n",
    "predictor_names = X_encoded.columns\n",
    "\n",
    "coef_df = pd.DataFrame({'Predictor': predictor_names, 'Coefficient': coefficients})\n",
    "coef_df = coef_df.sort_values(by='Coefficient', ascending=False)\n",
    "\n",
    "plt.figure(figsize=(10, 6))\n",
    "plt.barh(coef_df['Predictor'], coef_df['Coefficient'], color = 'teal')\n",
    "plt.xlabel('Coefficient Value')\n",
    "plt.ylabel('Predictor')\n",
    "plt.title('Linear Regression Coefficients') \n",
    "plt.show()"
   ]
  },
  {
   "cell_type": "markdown",
   "id": "fd819793",
   "metadata": {},
   "source": [
    "These results show that compared to the Netherlands, being from the US decreases the lifetime value slightly, while coming from tiktok or having an organic attribution source is associated with a much sharper decrease as opposed to Instagram as an attribution source."
   ]
  }
 ],
 "metadata": {
  "kernelspec": {
   "display_name": "Python 3 (ipykernel)",
   "language": "python",
   "name": "python3"
  },
  "language_info": {
   "codemirror_mode": {
    "name": "ipython",
    "version": 3
   },
   "file_extension": ".py",
   "mimetype": "text/x-python",
   "name": "python",
   "nbconvert_exporter": "python",
   "pygments_lexer": "ipython3",
   "version": "3.11.4"
  }
 },
 "nbformat": 4,
 "nbformat_minor": 5
}
